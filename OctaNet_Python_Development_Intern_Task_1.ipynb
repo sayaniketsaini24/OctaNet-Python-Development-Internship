{
  "nbformat": 4,
  "nbformat_minor": 0,
  "metadata": {
    "colab": {
      "provenance": [],
      "authorship_tag": "ABX9TyNmKY3eRY9DgMFSLSRw+bbo",
      "include_colab_link": true
    },
    "kernelspec": {
      "name": "python3",
      "display_name": "Python 3"
    },
    "language_info": {
      "name": "python"
    }
  },
  "cells": [
    {
      "cell_type": "markdown",
      "metadata": {
        "id": "view-in-github",
        "colab_type": "text"
      },
      "source": [
        "<a href=\"https://colab.research.google.com/github/sayaniketsaini24/OctaNet-Python-Development-Internship/blob/main/OctaNet_Python_Development_Intern_Task_1.ipynb\" target=\"_parent\"><img src=\"https://colab.research.google.com/assets/colab-badge.svg\" alt=\"Open In Colab\"/></a>"
      ]
    },
    {
      "cell_type": "code",
      "execution_count": null,
      "metadata": {
        "colab": {
          "base_uri": "https://localhost:8080/"
        },
        "id": "5ZBSwaZhyFG-",
        "outputId": "b260dd61-6151-465f-84bf-6406b008413d"
      },
      "outputs": [
        {
          "output_type": "stream",
          "name": "stdout",
          "text": [
            "Welcome to Octa Bank ATM Machine\n",
            "\n",
            "Please select an option:\n",
            "1. Check Balance\n",
            "2. Withdraw Cash\n",
            "3. Deposit Cash\n",
            "4. Change PIN\n",
            "5. View Transaction History\n",
            "6. Exit\n"
          ]
        }
      ],
      "source": [
        "# Simple ATM Machine Simulation:\n",
        "\n",
        "# Class definition for ATM Machine:\n",
        "class ATMMachine:\n",
        "  def __init__(self, bank_name, initial_balance=0):\n",
        "    \"\"\"\n",
        "    Initializes the ATM machine with the bank name and initial account balance.\n",
        "\n",
        "    Parameters:\n",
        "    -bank_name (str): The name of the bank.\n",
        "    -initial_balance (float): The initial balance of the account.\n",
        "    \"\"\"\n",
        "    self.bank_name = bank_name\n",
        "    self.balance = initial_balance\n",
        "    self.pin = \"4321\"  # Default PIN\n",
        "    self.transaction_history = []  # List to store transaction history\n",
        "\n",
        "  def display_welcome(self):\n",
        "    \"\"\"Displays the welcome message with the bank name.\"\"\"\n",
        "    print(f\"Welcome to {self.bank_name} ATM Machine\")\n",
        "\n",
        "  def check_balance(self):\n",
        "    \"\"\"Displays the current account balance.\"\"\"\n",
        "    print(f\"Your current balance is: ₹{self.balance:.2f}\")\n",
        "\n",
        "  def withdraw_cash(self, amount):\n",
        "    \"\"\"\n",
        "    Withdraws cash from the account if sufficient balance is available.\n",
        "\n",
        "    Parameters:\n",
        "    amount (float): The amount to withdraw.\n",
        "    \"\"\"\n",
        "    if amount <= self.balance:\n",
        "      self.balance -= amount\n",
        "      self.transaction_history.append(f\"Withdraw: ₹{amount:.2f}\")\n",
        "      print(f\"Please take your cash:  ₹{amount:.2f}\")\n",
        "    else:\n",
        "      print(\"Insufficient balance for this withdrawal.\")\n",
        "\n",
        "  def deposit_cash(self, amount):\n",
        "    \"\"\"\n",
        "    Deposits cash into the account.\n",
        "\n",
        "    Parameters:\n",
        "    amount (float): The amount to deposit.\n",
        "    \"\"\"\n",
        "    self.balance += amount\n",
        "    self.transaction_history.append(f\"Deposited: ₹{amount:.2f}\")\n",
        "    print(f\"You have successfully deposited: ₹{amount:.2f}\")\n",
        "\n",
        "  def change_pin(self, new_pin):\n",
        "    \"\"\"\n",
        "    Changes the current PIN to a new PIN.\n",
        "\n",
        "    Parameters:\n",
        "    new_pin (str): The new PIN to set.\n",
        "    \"\"\"\n",
        "    self.pin = new_pin\n",
        "    print(\"Your PIN has been successfully changed.\")\n",
        "\n",
        "  def view_transaction_history(self):\n",
        "    \"\"\"Displays the transaction history.\"\"\"\n",
        "    if self.transaction_history:\n",
        "      print(\"Transaction History:\")\n",
        "      for transaction in self.transaction_history:\n",
        "        print(transaction)\n",
        "    else:\n",
        "      print(\"No transactions yet.\")\n",
        "\n",
        "def main():\n",
        "  # Create an ATM machine instance:\n",
        "  atm = ATMMachine(\"Octa Bank\", initial_balance = 12000)\n",
        "  atm.display_welcome()\n",
        "\n",
        "  # Simulate user actions:\n",
        "  while True:\n",
        "    print(\"\\nPlease select an option:\")\n",
        "    print(\"1. Check Balance\")\n",
        "    print(\"2. Withdraw Cash\")\n",
        "    print(\"3. Deposit Cash\")\n",
        "    print(\"4. Change PIN\")\n",
        "    print(\"5. View Transaction History\")\n",
        "    print(\"6. Exit\")\n",
        "\n",
        "    choice = int(input(\"Enter your choice (1-6): \"))\n",
        "    if choice == 1:\n",
        "      atm.check_balance()\n",
        "    elif choice == 2:\n",
        "      amount = float(input(\"Enter amount to withdraw: \"))\n",
        "      atm.withdraw_cash(amount)\n",
        "    elif choice == 3:\n",
        "      amount = float(input(\"Enter amount to deposit: \"))\n",
        "      atm.deposit_cash(amount)\n",
        "    elif choice == 4:\n",
        "      new_pin = input(\"Enter new PIN: \")\n",
        "      atm.change_pin(new_pin)\n",
        "    elif choice == 5:\n",
        "      atm.view_transaction_history()\n",
        "    elif choice == 6:\n",
        "      print(\"Thank you for using the ATM. Goodbye!\")\n",
        "      break\n",
        "    else:\n",
        "      print(\"Invalid choice. Please try again.\")\n",
        "\n",
        "\n",
        "# Entry point of the program:\n",
        "if __name__ == \"__main__\":\n",
        "  main()"
      ]
    },
    {
      "cell_type": "code",
      "source": [],
      "metadata": {
        "id": "41z2aIeRNxyU"
      },
      "execution_count": null,
      "outputs": []
    }
  ]
}